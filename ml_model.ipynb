{
  "nbformat": 4,
  "nbformat_minor": 0,
  "metadata": {
    "colab": {
      "provenance": []
    },
    "kernelspec": {
      "name": "python3",
      "display_name": "Python 3"
    },
    "language_info": {
      "name": "python"
    }
  },
  "cells": [
    {
      "cell_type": "markdown",
      "source": [
        "## Imports"
      ],
      "metadata": {
        "id": "dsoy_9JMBsnv"
      }
    },
    {
      "cell_type": "code",
      "source": [
        "# pip install nest"
      ],
      "metadata": {
        "id": "Bk_60bazn1nd"
      },
      "execution_count": 211,
      "outputs": []
    },
    {
      "cell_type": "code",
      "source": [
        "import numpy as np\n",
        "import matplotlib.pyplot as plt\n",
        "import tensorflow as tf\n",
        "# import time\n",
        "# import nest"
      ],
      "metadata": {
        "id": "J7XI8NMfzMP9"
      },
      "execution_count": 212,
      "outputs": []
    },
    {
      "cell_type": "code",
      "source": [
        "mnist = tf.keras.datasets.mnist # 28 x 28 pixels\n",
        "(x_train, y_train), (x_test, y_test) = mnist.load_data()"
      ],
      "metadata": {
        "id": "zDM-9Ddy4V0n"
      },
      "execution_count": 213,
      "outputs": []
    },
    {
      "cell_type": "markdown",
      "source": [
        "## Training and testing feautures and labels"
      ],
      "metadata": {
        "id": "_05vzI-ABc0B"
      }
    },
    {
      "cell_type": "code",
      "source": [
        "ft_train = x_train.copy() # process_and_store(x_train).copy()\n",
        "ft_test = x_test.copy() # process_and_store(x_test).copy()\n",
        "lb_train = y_train.copy() # y_train.copy()\n",
        "lb_test = y_test.copy() # y_test.copy()"
      ],
      "metadata": {
        "id": "claiFNWxaO0h"
      },
      "execution_count": 214,
      "outputs": []
    },
    {
      "cell_type": "markdown",
      "source": [
        "## Parameters"
      ],
      "metadata": {
        "id": "hH98AM2xBZm8"
      }
    },
    {
      "cell_type": "code",
      "source": [
        "input_size = 324\n",
        "n_classes = 10\n",
        "n_ranks = 3\n",
        "# n_test = 250\n",
        "\n",
        "n_train = 9\n",
        "n_test = 9\n",
        "\n",
        "n_inp = input_size\n",
        "# n_out = n_classes\n",
        "\n",
        "k_exc = 20\n",
        "n_exc = k_exc * n_train\n",
        "\n",
        "n_spikes_out = [0] * n_classes\n",
        "n_spikes_exc = [0] * n_exc\n",
        "\n",
        "# teach_out = labels_train\n",
        "# train_digit = feat_arr_train\n",
        "# test_digit = feat_arr_train\n",
        "# test_out = labels_train"
      ],
      "metadata": {
        "id": "Njkw7fh24T2z"
      },
      "execution_count": 215,
      "outputs": []
    },
    {
      "cell_type": "code",
      "source": [
        "def supervised_classification(acc=0):\n",
        "    i_out = -1\n",
        "    count_right = 0\n",
        "\n",
        "    for num in range(n_classes):\n",
        "        n_spikes = n_spikes_out[num]\n",
        "\n",
        "        if n_spikes != 0: # n_spikes_max = 0\n",
        "            i_out = num\n",
        "            # n_spikes_max = n_spikes\n",
        "\n",
        "    if i_out == -1:\n",
        "        print(\"No spikes detected, classification cannot be performed.\")\n",
        "\n",
        "    else:\n",
        "        for i_test in range(len(lb_test)):\n",
        "            print('Output class index: ', i_out, 'Target class index: ', lb_test[i_test])\n",
        "\n",
        "            if i_out == lb_test[i_test]:\n",
        "                count_right += 1\n",
        "\n",
        "        corrects = count_right / len(lb_test)\n",
        "        acc = float(count_right) / len(lb_test) * 100.\n",
        "\n",
        "        print('Supervised corrects: ', corrects)\n",
        "        print('Supervised accuracy = ', acc, '%')"
      ],
      "metadata": {
        "id": "pVnu6I3pQr29"
      },
      "execution_count": 216,
      "outputs": []
    },
    {
      "cell_type": "code",
      "source": [
        "def unsupervised_classification(acc_un=0):\n",
        "    i_out_exc = -1\n",
        "    count_unsupervised_right = 0\n",
        "\n",
        "    for neuron in range(n_exc):\n",
        "        n_spikes = n_spikes_exc[neuron]\n",
        "\n",
        "        if n_spikes != 0: # n_spikes_max_exc = 0\n",
        "            i_out_exc = neuron\n",
        "            # n_spikes_max_exc = n_spikes\n",
        "\n",
        "    if i_out_exc == -1:\n",
        "        print(\"No spikes detected in excitatory neurons, unsupervised classification cannot be performed.\")\n",
        "\n",
        "    else:\n",
        "        class_out_exc = np.floor(i_out_exc / (k_exc * n_ranks))\n",
        "\n",
        "        for i_test in range(len(lb_test)):\n",
        "            if class_out_exc == lb_test[i_test]:\n",
        "                count_unsupervised_right += 1\n",
        "\n",
        "        corrects = count_unsupervised_right / len(lb_test)\n",
        "        acc_un = float(count_unsupervised_right) / len(lb_test) * 100.\n",
        "\n",
        "        print('Unsupervised corrects: ', corrects)\n",
        "        print('Unsupervised accuracy = ', acc_un, '%')"
      ],
      "metadata": {
        "id": "9cVeggf_QxRB"
      },
      "execution_count": 217,
      "outputs": []
    },
    {
      "cell_type": "code",
      "source": [
        "# Run classification tasks\n",
        "print('------------------------------')\n",
        "print('Supervised Pre-sleep')\n",
        "supervised_classification()\n",
        "print('------------------------------')\n",
        "print('Unsupervised Pre-sleep')\n",
        "unsupervised_classification()\n",
        "print('------------------------------')\n",
        "\n",
        "# Run unsupervised classification tasks\n",
        "print('------------------------------')\n",
        "print('Supervised Post-sleep')\n",
        "supervised_classification()\n",
        "print('------------------------------')\n",
        "print('Unsupervised Post-sleep')\n",
        "unsupervised_classification()\n",
        "print('------------------------------')\n",
        "\n",
        "# Print all accuracies\n",
        "# print('Accuracy Pre-sleep = ', acc_pre_sleep, '%')\n",
        "# print('Accuracy Post-sleep = ', acc_post_sleep, '%')\n",
        "# print('Accuracy Pre-sleep unsupervised = ', acc_pre_sleep_un, '%')\n",
        "# print('Accuracy Post-sleep unsupervised = ', acc_post_sleep_un, '%')"
      ],
      "metadata": {
        "id": "S04Mnqnwn6vD",
        "colab": {
          "base_uri": "https://localhost:8080/"
        },
        "outputId": "b85cacac-da6b-4c98-a893-5e0c428cdcd8"
      },
      "execution_count": 218,
      "outputs": [
        {
          "output_type": "stream",
          "name": "stdout",
          "text": [
            "------------------------------\n",
            "Supervised Pre-sleep\n",
            "No spikes detected, classification cannot be performed.\n",
            "------------------------------\n",
            "Unsupervised Pre-sleep\n",
            "No spikes detected in excitatory neurons, unsupervised classification cannot be performed.\n",
            "------------------------------\n",
            "------------------------------\n",
            "Supervised Post-sleep\n",
            "No spikes detected, classification cannot be performed.\n",
            "------------------------------\n",
            "Unsupervised Post-sleep\n",
            "No spikes detected in excitatory neurons, unsupervised classification cannot be performed.\n",
            "------------------------------\n"
          ]
        }
      ]
    },
    {
      "cell_type": "code",
      "source": [
        "# def supervised_classification(acc, n_spikes_max=0, i_out=-1):\n",
        "#       '''\n",
        "#       Determines the output class based on the maximum number of spikes in a neural network classification task.\n",
        "\n",
        "#       Iterates through output neurons to find the one with the highest spike count, identifying it as the predicted class.\n",
        "#       Compares the predicted class with the target class and updates the count of correctly classified instances.\n",
        "#       Prints the output class index, target class index, total correct classifications, and accuracy.\n",
        "\n",
        "#       Parameters:\n",
        "#       - n_spikes_max (int, optional): Initial maximum number of spikes, defaults to 0.\n",
        "#       - i_out (int, optional): Index of the output neuron with the current maximum spikes, defaults to -1.\n",
        "\n",
        "#       Returns:\n",
        "#       - count_right: Total number of correctly classified instances up to the current point.\n",
        "#       '''\n",
        "\n",
        "#       count_right = 0\n",
        "\n",
        "#       for i in range(n_classes):\n",
        "#         n_spikes = n_spikes_out[i]\n",
        "\n",
        "#         if n_spikes > n_spikes_max:\n",
        "#             i_out = i\n",
        "#             n_spikes_max = n_spikes\n",
        "\n",
        "#       for i_test in lb_test:\n",
        "#         print('Output class index: ', i_out)\n",
        "#         print('Target class index: ', lb_test[i_test]) # test_out[i_test]\n",
        "\n",
        "#         if i_out == lb_test[i_test]:\n",
        "#             count_right += 1\n",
        "\n",
        "#       corrects = count_right / i_test + 1\n",
        "#       acc = float(count_right) / float(i_test + 1.) * 100.\n",
        "\n",
        "#       print('Supervised corrects: ', corrects)\n",
        "#       print('Supervised accuracy = ', acc, '%')\n",
        "\n",
        "#       return acc"
      ],
      "metadata": {
        "id": "wPpbyqx277_8"
      },
      "execution_count": 219,
      "outputs": []
    },
    {
      "cell_type": "code",
      "source": [
        "# def unsupervised_classification(acc_un, n_spikes_max_exc=0, i_out_exc=-1):\n",
        "#       '''\n",
        "#       Determines the output class in an unsupervised neural network classification task based on spike counts.\n",
        "\n",
        "#       Iterates through excitatory neurons to identify the one with the highest spike count, determining the\n",
        "#       predicted class.\n",
        "#       Compares this predicted class with the target class, updating the count of correct classifications.\n",
        "#       Prints the total correct classifications, accuracy, and simulation time.\n",
        "\n",
        "#       Parameters:\n",
        "#       - n_spikes_max_exc (int, optional): Initial maximum number of spikes for excitatory neurons, defaults to 0.\n",
        "#       - i_out_exc (int, optional): Index of the excitatory neuron with the current maximum spikes, defaults to -1.\n",
        "\n",
        "#       Returns:\n",
        "#       - count_unsupervised_right: Total number of correctly classified instances in the unsupervised setting.\n",
        "#       - i_test:\n",
        "#       '''\n",
        "\n",
        "#       count_unsupervised_right = 0\n",
        "\n",
        "#       for i in range(n_exc):\n",
        "#           n_spikes = n_spikes_exc[i]\n",
        "\n",
        "#           if n_spikes > n_spikes_max_exc:\n",
        "#               i_out_exc = i\n",
        "#               n_spikes_max_exc = n_spikes\n",
        "\n",
        "#       class_out_exc = np.floor(i_out_exc / (k_exc * n_ranks))\n",
        "\n",
        "#       for i_test in lb_test:\n",
        "#         if class_out_exc == lb_test[i_test]: # test_out[i_test]\n",
        "#             count_unsupervised_right += count_unsupervised_right\n",
        "\n",
        "#       corrects = count_unsupervised_right / i_test + 1\n",
        "#       acc_un = float(count_unsupervised_right) / float(i_test + 1.) * 100.\n",
        "\n",
        "#       print('Unsupervised corrects: ', corrects)\n",
        "#       print('Unsupervised accuracy = ', acc_un, '%')\n",
        "\n",
        "#       # endTime = time.time()\n",
        "#       # print(f'Simulation time: %.2f s' % endTime - startTime)\n",
        "#       # sys.stdout.flush()\n",
        "\n",
        "#       return acc_un"
      ],
      "metadata": {
        "id": "2H5s-0QU7_oo"
      },
      "execution_count": 220,
      "outputs": []
    }
  ]
}