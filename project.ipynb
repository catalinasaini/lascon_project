{
 "cells": [
  {
   "cell_type": "markdown",
   "id": "6ee1600b-bb8b-4041-a050-f694d8ca7afd",
   "metadata": {},
   "source": [
    "## Sleep-like slow oscillations improve visual classification through synaptic homeostasis and memory association in a thalamo-cortical model\n",
    "\n",
    "### Authors: Bruna, Catalina Saini, Flavio Rusch\n",
    "\n",
    "Project for:\n",
    "Latin American Computational Neuroscience Summer School (LASCON) 2024, \n",
    "Universidade de Sao Paulo (USP), \n",
    "Sao Paulo, Brazil\n",
    "\n",
    "Original paper: Capone, C., Pastorelli, E., Golosio, B., & Paolucci, P. S. (2019). Sleep-like slow oscillations improve visual classification through synaptic homeostasis and memory association in a thalamo-cortical model. Scientific Reports, 9(1), 1-11. https://doi.org/10.1038/s41598-019-45525-0\n",
    "\n",
    "Simulation Engine: We performed spiking simulation using the NEST simulation engine, the high-performance general purpose simulator developed by the NEST Initiative, release 2.1231."
   ]
  },
  {
   "cell_type": "markdown",
   "id": "6279ef38-9344-4048-be77-5248e3d78e13",
   "metadata": {},
   "source": [
    "## Imports"
   ]
  },
  {
   "cell_type": "code",
   "execution_count": 1,
   "id": "be7e46ac-3782-446d-98af-f6ac677b4c23",
   "metadata": {},
   "outputs": [
    {
     "name": "stdout",
     "output_type": "stream",
     "text": [
      "\n",
      "              -- N E S T --\n",
      "  Copyright (C) 2004 The NEST Initiative\n",
      "\n",
      " Version: 3.6.0\n",
      " Built: Oct 15 2023 15:12:16\n",
      "\n",
      " This program is provided AS IS and comes with\n",
      " NO WARRANTY. See the file LICENSE for details.\n",
      "\n",
      " Problems or suggestions?\n",
      "   Visit https://www.nest-simulator.org\n",
      "\n",
      " Type 'nest.help()' to find out more about NEST.\n",
      "\n"
     ]
    }
   ],
   "source": [
    "import nest\n",
    "import matplotlib as plt\n",
    "import numpy as np"
   ]
  },
  {
   "cell_type": "code",
   "execution_count": 2,
   "id": "814504d6-b5bb-46ff-9a7a-2d7056a6bfaf",
   "metadata": {},
   "outputs": [],
   "source": [
    "dir(nest)\n",
    "\n",
    "nest.ResetKernel()"
   ]
  },
  {
   "cell_type": "markdown",
   "id": "11d5d068-43eb-41a2-a27c-0b8bd8ce1c54",
   "metadata": {},
   "source": [
    "## Network arquitecture: Minimal thalamo-cortical model"
   ]
  },
  {
   "cell_type": "markdown",
   "id": "cf84eca9-e6ba-4c5a-8d66-ee270048b8d1",
   "metadata": {},
   "source": [
    "Upload image"
   ]
  },
  {
   "cell_type": "markdown",
   "id": "6294dcda-4cf3-4aea-9eff-aa45356ada60",
   "metadata": {},
   "source": [
    " ## Neurons\n",
    " \n",
    " ### Adaptive exponential (AdEx) point like single compartment neurons"
   ]
  },
  {
   "cell_type": "markdown",
   "id": "23c215e2-2f50-48ae-bbf3-e55e9f6115dc",
   "metadata": {},
   "source": [
    "Insert image here."
   ]
  },
  {
   "cell_type": "code",
   "execution_count": 3,
   "id": "8ff6f36b-cd26-46bf-a13c-5575d1f67791",
   "metadata": {},
   "outputs": [],
   "source": [
    "cxn = nest.Create('aeif_cond_alpha', 780) # cortical excitation (Ncxn_1 = 180, Ncxn_2 = 600)\n",
    "inn = nest.Create('aeif_cond_alpha', 200) # cortical inhibition\n",
    "tcn = nest.Create('aeif_cond_alpha', 324) # thalamic excitation\n",
    "ren = nest.Create('aeif_cond_alpha', 200) # thalamic inhibition\n",
    "\n",
    "pg = nest.Create('poisson_generator') # contextual signal: poisson spike train generator"
   ]
  },
  {
   "cell_type": "markdown",
   "id": "fc3c9902-7eaf-45ea-9de7-55e32db72c5e",
   "metadata": {},
   "source": [
    "Notes: \n",
    "\n",
    "About the contextual signal: See https://nest-simulator.readthedocs.io/en/stable/models/poisson_generator.html."
   ]
  },
  {
   "cell_type": "markdown",
   "id": "aa12cc13-1b00-4b3a-a770-39e08902fda3",
   "metadata": {},
   "source": [
    "## Neural connections"
   ]
  },
  {
   "cell_type": "code",
   "execution_count": 4,
   "id": "29bbd440-9940-4db5-a6d3-69ac5e254a51",
   "metadata": {},
   "outputs": [],
   "source": [
    "ep = 1.0 # connection probability\n",
    "\n",
    "conn_spec_dict = {\n",
    "    'rule': \n",
    "    'pairwise_bernoulli', # ?\n",
    "    'p': ep\n",
    "} \n",
    "\n",
    "nest.Connect(inn, cxn, conn_spec_dict, syn_spec={'synapse_model': 'stdp_synapse', 'weight': -4.0}) # in → cx\n",
    "nest.Connect(cxn, inn, conn_spec_dict, syn_spec={'synapse_model': 'stdp_synapse', 'weight': 60.0}) # cx → in\n",
    "nest.Connect(tcn, ren, conn_spec_dict, syn_spec={'synapse_model': 'stdp_synapse', 'weight': 10.0}) # tc → re\n",
    "nest.Connect(ren, tcn, conn_spec_dict, syn_spec={'synapse_model': 'stdp_synapse', 'weight': -10.0}) # re → tc\n",
    "nest.Connect(inn, inn, conn_spec_dict, syn_spec={'synapse_model': 'stdp_synapse', 'weight': -1.0}) # in → in\n",
    "nest.Connect(ren, ren, conn_spec_dict, syn_spec={'synapse_model': 'stdp_synapse', 'weight': -1.0}) # re → re"
   ]
  },
  {
   "cell_type": "markdown",
   "id": "2a3a6189-95ed-455c-944a-76e5cdb4aade",
   "metadata": {},
   "source": [
    "Notes:\n",
    "    \n",
    "About connection management: See https://nest-simulator.readthedocs.io/en/v3.1/guides/connection_management.html\n",
    "\n",
    "Questions:\n",
    "Pairwise Bernoulli?\n",
    "STDP synapse?"
   ]
  },
  {
   "cell_type": "markdown",
   "id": "d5da063b-f047-4256-b244-28e1e258190d",
   "metadata": {},
   "source": [
    "### STDP plasticity\n",
    "\n",
    "Insert image here."
   ]
  },
  {
   "cell_type": "code",
   "execution_count": 5,
   "id": "b4957176-7d5b-4184-a816-4a384bafb50c",
   "metadata": {},
   "outputs": [],
   "source": [
    "# plastic neurons\n",
    "wmin = 1.0 # minimum synaptic weight\n",
    "a = 1.0 # symmetric STPD\n",
    "\n",
    "nest.Connect(cxn, cxn, conn_spec_dict, {'synapse_model': 'stdp_synapse', 'alpha': a, 'Wmax': 15.0}) # cx → cx\n",
    "nest.Connect(cxn, tcn, conn_spec_dict, {'synapse_model': 'stdp_synapse', 'alpha': a, 'Wmax': 13.0}) # cx → tc\n",
    "nest.Connect(tcn, cxn, conn_spec_dict, {'synapse_model': 'stdp_synapse', 'alpha': a, 'Wmax': 5.5}) # tc → cx"
   ]
  },
  {
   "cell_type": "markdown",
   "id": "f9e34aa1-fa82-452c-9cdb-1dd341240d07",
   "metadata": {},
   "source": [
    "Notes:\n",
    "    \n",
    "STDP synapses: https://nest-simulator.readthedocs.io/en/v2.20.0/models/stdp.html\n",
    "Synapses: https://nest-simulator.readthedocs.io/en/v2.18.0/models/synapses.html\n",
    "\n",
    "Questions:\n",
    "How to include wmin?"
   ]
  },
  {
   "cell_type": "code",
   "execution_count": 6,
   "id": "0b50d35f-e1a9-495f-95e8-297bd424eb4b",
   "metadata": {},
   "outputs": [
    {
     "name": "stdout",
     "output_type": "stream",
     "text": [
      "1635440\n"
     ]
    }
   ],
   "source": [
    "print(nest.num_connections)"
   ]
  },
  {
   "cell_type": "markdown",
   "id": "25d9c0f1-fabc-4333-8922-fc685f797184",
   "metadata": {},
   "source": [
    "## Image preprocessing"
   ]
  },
  {
   "cell_type": "code",
   "execution_count": 7,
   "id": "9744d5d3-9235-44dc-ab33-c592adeb0680",
   "metadata": {},
   "outputs": [],
   "source": [
    "def image_preprocessing():\n",
    "    None"
   ]
  },
  {
   "cell_type": "markdown",
   "id": "c6b85674-41f2-4340-a6b3-56e9080ad749",
   "metadata": {},
   "source": [
    "## Simulation"
   ]
  },
  {
   "cell_type": "code",
   "execution_count": null,
   "id": "1abb1db8-dbd4-4766-a9aa-ab8b721dc490",
   "metadata": {},
   "outputs": [],
   "source": [
    "class Simulation(): # Network structure and dynamics are compared in the pre- and post- sleep phases.\n",
    "\n",
    "    def training(): # Training phase\n",
    "        ''' Visual patterns are learned by the network\n",
    "    \n",
    "        Training set (TS) runs:\n",
    "            1. 9 imgs, 3 dif ex for 3 dif digits (0, 1, 2), Ncx = 180. \n",
    "            2. 30 imgs, 3 ex per digit, Ncx = 600. \n",
    "        \n",
    "        '''\n",
    "    \n",
    "        # Groups of 20 cortical neurons per image.\n",
    "        None\n",
    "        \n",
    "        # Device connections\n",
    "        nest.Connect(pg, cxn, syn_spec={'weight': 8.0}) # pg inputs\n",
    "        nest.Connect(pg, inn, syn_spec={'weight': 15.0})\n",
    "\n",
    "        # 10 kHz pg  provided to inn (prevents trained neurons to respond to new stimuli.\n",
    "        pg.set(rate=10000.0)\n",
    "        \n",
    "        # For every img through the thalamic pathway -> 2 kHz pg to a dif set of 20 neurons.\n",
    "        pg.set(rate=2000.0)\n",
    "        \n",
    "    def slow_oscillations(): # Post-training phase (pre-sleep phase?)\n",
    "        '''Sleep-like thalamo-cortical spontaneous slow oscillations activity is induced '''\n",
    "        \n",
    "        # For 600s by providing a non-specific Poisson noise inside the cortex (700 Hz).\n",
    "        pg.set(rate=700.0)\n",
    "        \n",
    "        # and increasing the strength of SFA parameter (b = 60, in eq. (1)). \n",
    "        None\n",
    "        \n",
    "        # No external stimulus is provided to tc cells. \n",
    "        None\n",
    "        \n",
    "        # The synaptic weights between inn and exn is reduced to w in→cx = −0.5. \n",
    "        None\n",
    "        \n",
    "        # Asymmetric STDP plasticity (α = 3.0) in the recurrent cx connectivity. \n",
    "        None\n",
    "   \n",
    "    def retrieval(): # Pre-sleep retrieval phase\n",
    "        ''' Patterns are recalled '''\n",
    "        \n",
    "        nest.Connect(pg, tcn, syn_spec={'weight': 5.0})\n",
    "        pg.set(rate=80000.0)\n",
    "    \n",
    "    def sleep(): # Sleep phase\n",
    "        None\n",
    "        \n",
    "    def exercise(): # Post-sleep phase (option 1)\n",
    "        ''' Network is exercised on the retrieval of previous learned patterns'''\n",
    "        \n",
    "        None\n",
    "    \n",
    "    def classification(): # Post-sleep phase (option 2)\n",
    "        ''' Applied to the classification of novel examples'''\n",
    "        \n",
    "        None\n",
    "    \n",
    "    nest.Simulate(t=2000)"
   ]
  },
  {
   "cell_type": "markdown",
   "id": "0d89a7ff-ee4c-46c3-8701-06124ba8cc6a",
   "metadata": {},
   "source": [
    "Questions: \n",
    "1. conn_spec_dict for pg? \n",
    "2. syn_spec model for pg?\n",
    "3. pg, tcn and tcn, pg? \n",
    "4. rate is in Hz or kHz? \n",
    "5. slow oscillations phase is the same as pre-sleep phase?"
   ]
  },
  {
   "cell_type": "code",
   "execution_count": null,
   "id": "1ca0d087-c129-43be-8c22-c6320265d3ef",
   "metadata": {},
   "outputs": [],
   "source": []
  }
 ],
 "metadata": {
  "kernelspec": {
   "display_name": "EBRAINS-23.09",
   "language": "python",
   "name": "ebrains-23.09"
  },
  "language_info": {
   "codemirror_mode": {
    "name": "ipython",
    "version": 3
   },
   "file_extension": ".py",
   "mimetype": "text/x-python",
   "name": "python",
   "nbconvert_exporter": "python",
   "pygments_lexer": "ipython3",
   "version": "3.8.11"
  }
 },
 "nbformat": 4,
 "nbformat_minor": 5
}
