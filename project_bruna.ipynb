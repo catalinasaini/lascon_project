{
 "cells": [
  {
   "cell_type": "markdown",
   "id": "01c55b2d-7744-40ec-a6de-9fc34aa5c3ad",
   "metadata": {},
   "source": [
    "# A thalamo-cortical model of post-sleep memory improvement\n",
    "\n",
    "*Bruna, Catalina and Flávio*\n",
    "\n",
    "*LASCON 2024*\n",
    "\n",
    "In this Jupyter Notebook, we are going to model a thalamo-cortical model of post-sleep memory improvement. This project reproducts the paper [\"Sleep-like slow oscillations improve visual classification through synaptic homeostasis and memory association in a thalamo-cortical model\"](https://www.nature.com/articles/s41598-019-45525-0), whose code is not publicly available. The project is also part of the activities developed during LASCON 2024. \n",
    "\n",
    "In this notebook, we will go step by step in:\n",
    "\n",
    "1. Model creation\n",
    "2. Model testing\n",
    "3. Implementing MNSIT classification\n",
    "4. Reproducting the paper's results\n",
    "\n",
    "Let's start. :)\n",
    "\n",
    "-------------------------------\n",
    "\n",
    "## 1. Model creation\n",
    "\n",
    "Importing libraries"
   ]
  },
  {
   "cell_type": "code",
   "execution_count": 1,
   "id": "4ea0c970-876e-4f38-b6c0-ebd574581d7b",
   "metadata": {},
   "outputs": [
    {
     "name": "stdout",
     "output_type": "stream",
     "text": [
      "\n",
      "              -- N E S T --\n",
      "  Copyright (C) 2004 The NEST Initiative\n",
      "\n",
      " Version: 3.4\n",
      " Built: Jul 22 2023 00:00:00\n",
      "\n",
      " This program is provided AS IS and comes with\n",
      " NO WARRANTY. See the file LICENSE for details.\n",
      "\n",
      " Problems or suggestions?\n",
      "   Visit https://www.nest-simulator.org\n",
      "\n",
      " Type 'nest.help()' to find out more about NEST.\n",
      "\n"
     ]
    }
   ],
   "source": [
    "import nest\n",
    "import numpy as np\n",
    "import matplotlib.pyplot as plt\n",
    "\n",
    "%matplotlib inline"
   ]
  },
  {
   "cell_type": "code",
   "execution_count": 2,
   "id": "4f664518",
   "metadata": {},
   "outputs": [],
   "source": [
    "# Reset Kernel\n",
    "nest.ResetKernel()"
   ]
  },
  {
   "cell_type": "markdown",
   "id": "683238f7",
   "metadata": {},
   "source": [
    "### 1.1 Network creation\n",
    "\n",
    "Create AEIF (Adaptative Exponential Integrate-and-Fire) alpha neurons population for the populations:\n",
    "\n",
    "- cx: pyramidal neurons (+) [in the cortex]\n",
    "- in: inhibitory interneurons (-) [in the cortex]\n",
    "- tc: thalamic relay neurons (+) [thalamocortical neurons]\n",
    "- re: reticular neurons (-) [thalamic]\n",
    " "
   ]
  },
  {
   "cell_type": "code",
   "execution_count": 3,
   "id": "35836999-04fa-4374-86c4-387510671c7c",
   "metadata": {},
   "outputs": [],
   "source": [
    "# Number of populations\n",
    "cx_n = 180\n",
    "in_n = 200\n",
    "tc_n = 324\n",
    "re_n = 200\n",
    "\n",
    "# Change V_peak accordingly to the paper\n",
    "V_peak = nest.GetDefaults('aeif_cond_alpha')['V_th'] + 5 * nest.GetDefaults('aeif_cond_alpha')['Delta_T']\n",
    "neuron_params = {\"V_peak\": V_peak}\n",
    "\n",
    "nest.SetDefaults('aeif_cond_alpha', neuron_params)\n",
    "\n",
    "# Creating populations\n",
    "cx_pop = nest.Create('aeif_cond_alpha', cx_n) # Groups of 20 neurons for each image in the training set. In a first set of runs, the training set was composed of 9 images.\n",
    "in_pop = nest.Create('aeif_cond_alpha', in_n)\n",
    "tc_pop = nest.Create('aeif_cond_alpha', tc_n) # The number of thalamic neurons is the same as the dimension of the feature vector produced by the pre-processing of visual input\n",
    "re_pop = nest.Create('aeif_cond_alpha', re_n)"
   ]
  },
  {
   "cell_type": "markdown",
   "id": "f0511497",
   "metadata": {},
   "source": [
    "Connect the populations of neurons."
   ]
  },
  {
   "cell_type": "code",
   "execution_count": 4,
   "id": "02886cbf",
   "metadata": {},
   "outputs": [],
   "source": [
    "in_cx = nest.Connect(in_pop, cx_pop, syn_spec={\"weight\": -4}) # inhibitory interneurons -> pyramidal neurons\n",
    "cx_in = nest.Connect(cx_pop, in_pop, syn_spec={\"weight\": 60}) # pyramidal neurons -> inhibitory interneurons\n",
    "tc_re = nest.Connect(tc_pop, re_pop, syn_spec={\"weight\": 10}) # thalamic relay -> reticular neurons\n",
    "re_tc = nest.Connect(re_pop, tc_pop, syn_spec={\"weight\": -10}) # reticular neurons -> thalamic relay\n",
    "in_in = nest.Connect(in_pop, in_pop, syn_spec={\"weight\": -1}) # inhibitory interneurons -> inhibitory interneuros\n",
    "re_re = nest.Connect(re_pop, re_pop, syn_spec={\"weight\": -1}) # reticular neurons -> reticular neurons"
   ]
  },
  {
   "cell_type": "markdown",
   "id": "89b4d62d",
   "metadata": {},
   "source": [
    "Connect the populations cx-cx, cx-tc, and tc-cx with the Spike-timing dependent plasticity (STDP) synapses. These synapses comprise the learning mechanism. "
   ]
  },
  {
   "cell_type": "code",
   "execution_count": 5,
   "id": "2867690b",
   "metadata": {},
   "outputs": [],
   "source": [
    "# Synapse definitions\n",
    "w_max_cxcx = 150                        # Max weight value fo the cx-cx connection     \n",
    "w_max_cxtc = 130                        # Max weight value fo the cx-tc connection \n",
    "w_max_tccx = 5.5                        # Max weight value fo the tc-cx connection \n",
    "syn_alpha = 1.0\n",
    "\n",
    "syn_dict_cxcx = {\"synapse_model\": \"stdp_synapse\", \n",
    "                \"alpha\": syn_alpha,\n",
    "                \"weight\": 1,\n",
    "                \"Wmax\": w_max_cxcx}\n",
    "\n",
    "syn_dict_cxtc = {\"synapse_model\": \"stdp_synapse\", \n",
    "                \"alpha\": syn_alpha,\n",
    "                \"weight\": 1,\n",
    "                \"Wmax\": w_max_cxtc}\n",
    "\n",
    "syn_dict_tccx = {\"synapse_model\": \"stdp_synapse\", \n",
    "                \"alpha\": syn_alpha,\n",
    "                \"weight\": 1.0,\n",
    "                \"Wmax\": w_max_tccx}\n",
    "\n",
    "# Connect populations\n",
    "cx_cx = nest.Connect(cx_pop, cx_pop, syn_spec=syn_dict_cxcx)\n",
    "cx_tc = nest.Connect(cx_pop, tc_pop, syn_spec=syn_dict_cxtc)\n",
    "tc_cx = nest.Connect(tc_pop, cx_pop, syn_spec=syn_dict_tccx)"
   ]
  },
  {
   "cell_type": "markdown",
   "id": "0595d6ec",
   "metadata": {},
   "source": [
    "Curiosity: let's check the number of connections in this network."
   ]
  },
  {
   "cell_type": "code",
   "execution_count": 6,
   "id": "fe59f504",
   "metadata": {},
   "outputs": [
    {
     "name": "stdout",
     "output_type": "stream",
     "text": [
      "430640\n"
     ]
    }
   ],
   "source": [
    "print(nest.num_connections)"
   ]
  },
  {
   "cell_type": "code",
   "execution_count": 27,
   "id": "dc0322eb",
   "metadata": {},
   "outputs": [],
   "source": [
    "# Multimeter\n",
    "multimeter = nest.Create(\"multimeter\")\n",
    "multimeter.set(record_from=[\"V_m\"])\n",
    "\n",
    "# Spike recorder\n",
    "spikerecorder = nest.Create(\"spike_recorder\")"
   ]
  },
  {
   "cell_type": "code",
   "execution_count": 28,
   "id": "c12ce11d",
   "metadata": {},
   "outputs": [],
   "source": [
    "mult_cx = nest.Connect(multimeter, cx_pop)\n",
    "cx_rec = nest.Connect(cx_pop, spikerecorder)"
   ]
  },
  {
   "cell_type": "code",
   "execution_count": 29,
   "id": "86800fa4",
   "metadata": {},
   "outputs": [
    {
     "name": "stdout",
     "output_type": "stream",
     "text": [
      "\n",
      "Jan 22 11:53:37 NodeManager::prepare_nodes [Info]: \n",
      "    Preparing 1270 nodes for simulation.\n",
      "\n",
      "Jan 22 11:53:37 SimulationManager::start_updating_ [Info]: \n",
      "    Number of local nodes: 1270\n",
      "    Simulation time (ms): 1000\n",
      "    Number of OpenMP threads: 1\n",
      "    Not using MPI\n",
      "\n",
      "Jan 22 11:58:55 SimulationManager::run [Info]: \n",
      "    Simulation finished.\n"
     ]
    }
   ],
   "source": [
    "nest.Simulate(1000.0)"
   ]
  },
  {
   "cell_type": "code",
   "execution_count": 30,
   "id": "39bb2dbc",
   "metadata": {},
   "outputs": [
    {
     "ename": "AttributeError",
     "evalue": "'NoneType' object has no attribute 'get'",
     "output_type": "error",
     "traceback": [
      "\u001b[0;31m---------------------------------------------------------------------------\u001b[0m",
      "\u001b[0;31mAttributeError\u001b[0m                            Traceback (most recent call last)",
      "Cell \u001b[0;32mIn[30], line 6\u001b[0m\n\u001b[1;32m      3\u001b[0m Vms \u001b[38;5;241m=\u001b[39m cx_vm[\u001b[38;5;124m\"\u001b[39m\u001b[38;5;124mevents\u001b[39m\u001b[38;5;124m\"\u001b[39m][\u001b[38;5;124m\"\u001b[39m\u001b[38;5;124mV_m\u001b[39m\u001b[38;5;124m\"\u001b[39m]\n\u001b[1;32m      4\u001b[0m ts \u001b[38;5;241m=\u001b[39m cx_vm[\u001b[38;5;124m\"\u001b[39m\u001b[38;5;124mevents\u001b[39m\u001b[38;5;124m\"\u001b[39m][\u001b[38;5;124m\"\u001b[39m\u001b[38;5;124mtimes\u001b[39m\u001b[38;5;124m\"\u001b[39m]\n\u001b[0;32m----> 6\u001b[0m cx_spike \u001b[38;5;241m=\u001b[39m \u001b[43mcx_rec\u001b[49m\u001b[38;5;241;43m.\u001b[39;49m\u001b[43mget\u001b[49m(\u001b[38;5;124m\"\u001b[39m\u001b[38;5;124mevents\u001b[39m\u001b[38;5;124m\"\u001b[39m, \u001b[38;5;124m\"\u001b[39m\u001b[38;5;124mtimes\u001b[39m\u001b[38;5;124m\"\u001b[39m)\n",
      "\u001b[0;31mAttributeError\u001b[0m: 'NoneType' object has no attribute 'get'"
     ]
    }
   ],
   "source": [
    "# Get events from multimeter\n",
    "cx_vm = multimeter.get()\n",
    "Vms = cx_vm[\"events\"][\"V_m\"]\n",
    "ts = cx_vm[\"events\"][\"times\"]\n",
    "\n",
    "cx_spike = cx_rec.get(\"events\", \"times\")"
   ]
  },
  {
   "cell_type": "code",
   "execution_count": 31,
   "id": "ed53337f",
   "metadata": {},
   "outputs": [
    {
     "data": {
      "text/plain": [
       "NodeCollection(metadata=None, model=multimeter, size=1, first=1269)"
      ]
     },
     "execution_count": 31,
     "metadata": {},
     "output_type": "execute_result"
    }
   ],
   "source": [
    "multimeter"
   ]
  },
  {
   "cell_type": "code",
   "execution_count": null,
   "id": "a95204c6",
   "metadata": {},
   "outputs": [],
   "source": [
    "\n",
    "plt.plot(cx_spike, cx_vm)\n",
    "plt.legend(loc=3)\n",
    "plt.xlabel(\"Times (ms)\")\n",
    "plt.ylabel(\"Vm cx (mv)\")"
   ]
  },
  {
   "cell_type": "markdown",
   "id": "6937be73",
   "metadata": {},
   "source": [
    "## 1.2 Input Poisson spike trains to the populations"
   ]
  },
  {
   "cell_type": "markdown",
   "id": "0b103c20",
   "metadata": {},
   "source": [
    "Let's input the contextual signal to the cx population (pyramidal neurons). \n",
    "\n",
    "The contextual signal is applied alongside the visual stimuli to facilitate the learning of new stimuli by a subset of neurons. It changes their effective firing threshold during the presentation of handwritten images in the training phase, thus mimicking a coincidence of signals. Besides, another signal is inputted into inhibitory neurons to prevent already trained neurons to respond to the new stimuli in the training phase. "
   ]
  },
  {
   "cell_type": "markdown",
   "id": "87251809",
   "metadata": {},
   "source": [
    "*\"Each cell receives a Poisson spike train with average firing rate that is 30 kHz only when the element of the feature vector is 1. The specific number of thalamic neurons used in the model is related to the specific pre-processing algorithm and the number of levels used to code the pre-processing output.\"*\n",
    "\n",
    "*\"During the retrieval phase only the 30 kHz input to thalamic cell is provided, while the contextual signal is off.\"*\n",
    "\n",
    "*\"The contextual signal is a Poissonian train of spikes which mimics a contextual signal coming from other brain areas and selectively facilitates neurons to learn new stimuli.\"*\n",
    "\n",
    "*\"Every time a new training image is presented to the network through the thalamic pathway, the facilitation signal coming from the contextual signal provides a 2 kHz Poisson spike train to a different set of 20 neurons, inducing the group to encode for that specific input stimulus (see the Discussion section for details about this choice). Additionally a 10 kHz Poisson spike train is provided to inhibitory neurons () to prevent already trained neurons to respond to new stimuli in the training phase\"*\n",
    "\n",
    "*\"Relying on these observation we introduced in our model external stimuli mimiking contextual information which changes the effective firing threshold of specific subsets of neurons during the presentation of examples in the training phase\"*\n",
    "\n"
   ]
  },
  {
   "cell_type": "code",
   "execution_count": null,
   "id": "78246f8c",
   "metadata": {},
   "outputs": [],
   "source": [
    "# Contextual signal (Poisson spile train of 2 kHz) to the cx population\n",
    "cont_sign = nest.Create(\"poisson_generator\")\n",
    "\n",
    "# Poisson spike train to inhibitory neurons of 10 kHz\n",
    "poisson_in = nest.Create(\"poisson_generator\")\n",
    "\n",
    "# Poisson spike train inputted with visual stimulu only when the element of feature vector is 1 (30 kHz)\n",
    "poisson_tc = nest.Create(\"poisson_generator\")\n",
    "\n",
    "# Set frequencies\n",
    "cont_sign.set(rate=2000.0)\n",
    "poisson_in.set(rate=10000.0)\n",
    "poisson_tc.set(rate=30000.0)\n",
    "\n",
    "# Connect them to the neurons\n",
    "syn_dict_contsig = {\"weight\": 15}\n",
    "syn_dict_p_inh = {\"weight\": 5}\n",
    "syn_dict_p_vis = {\"weight\": 8}\n",
    "\n",
    "nest.Connect(cont_sign, cx_pop, syn_spec=syn_dict_contsig)      # Turn off during the retrieval phase\n",
    "nest.Connect(poisson_in, in_pop, syn_spec=syn_dict_p_inh)       # Only connect after the first training set. Turn off during the retrieval phase.\n",
    "nest.Connect(poisson_tc, tc_pop, syn_spec=syn_dict_p_vis)"
   ]
  },
  {
   "cell_type": "markdown",
   "id": "0f371977",
   "metadata": {},
   "source": [
    "## 2. Model testing"
   ]
  },
  {
   "cell_type": "markdown",
   "id": "9f4240d5",
   "metadata": {},
   "source": [
    "Creating devices for testing the model.\n",
    "\n",
    "By creating a multimeter, we can use it to record the membrane voltage of a neuron over time. \n",
    "By creating a spike_recorder, we can record the spiking events produced by a neuron."
   ]
  },
  {
   "cell_type": "code",
   "execution_count": null,
   "id": "30c47c4f",
   "metadata": {},
   "outputs": [],
   "source": [
    "# Multimeter\n",
    "multimeter = nest.Create(\"multimeter\")\n",
    "multimeter.set(record_from=[\"V_m\"])\n",
    "\n",
    "# Spike recorder\n",
    "spikerecorder = nest.Create(\"spike_recorder\")"
   ]
  },
  {
   "cell_type": "markdown",
   "id": "657916d3",
   "metadata": {},
   "source": [
    "Connect neurons to devices."
   ]
  },
  {
   "cell_type": "code",
   "execution_count": null,
   "id": "f1886f98",
   "metadata": {},
   "outputs": [],
   "source": [
    "nest.Connect(multimeter, cx_pop)\n",
    "nest.Connect(cx_pop, spikerecorder)"
   ]
  },
  {
   "cell_type": "code",
   "execution_count": null,
   "id": "a3674d54",
   "metadata": {},
   "outputs": [
    {
     "name": "stdout",
     "output_type": "stream",
     "text": [
      "\n",
      "Jan 18 16:33:47 NodeManager::prepare_nodes [Info]: \n",
      "    Preparing 6 nodes for simulation.\n",
      "\n",
      "Jan 18 16:33:47 SimulationManager::start_updating_ [Info]: \n",
      "    Number of local nodes: 6\n",
      "    Simulation time (ms): 1000\n",
      "    Number of OpenMP threads: 1\n",
      "    Not using MPI\n",
      "\n",
      "Jan 18 16:33:47 SimulationManager::run [Info]: \n",
      "    Simulation finished.\n"
     ]
    }
   ],
   "source": [
    "nest.Simulate(1000.0)"
   ]
  }
 ],
 "metadata": {
  "kernelspec": {
   "display_name": "Python 3",
   "language": "python",
   "name": "python3"
  },
  "language_info": {
   "codemirror_mode": {
    "name": "ipython",
    "version": 3
   },
   "file_extension": ".py",
   "mimetype": "text/x-python",
   "name": "python",
   "nbconvert_exporter": "python",
   "pygments_lexer": "ipython3",
   "version": "3.12.1"
  }
 },
 "nbformat": 4,
 "nbformat_minor": 5
}
